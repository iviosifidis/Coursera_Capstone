{
 "cells": [
  {
   "cell_type": "markdown",
   "metadata": {},
   "source": [
    "# Applied Data Science Capstone"
   ]
  },
  {
   "cell_type": "markdown",
   "metadata": {},
   "source": [
    "## This Notebook will be used for the Coursera capstone project"
   ]
  },
  {
   "cell_type": "markdown",
   "metadata": {},
   "source": [
    "## Table of contents\n",
    "* [Introduction: Business Problem](#introduction)\n",
    "* [Data](#data)"
   ]
  },
  {
   "cell_type": "markdown",
   "metadata": {},
   "source": [
    "## Introduction: Business Problem <a name=\"introduction\"></a>"
   ]
  },
  {
   "cell_type": "markdown",
   "metadata": {},
   "source": [
    "In this project, we will try to find an optimal location for a business operation. Specifically, a close friend of mine asked me to help him with finding a good place for opening a **cafe in Athina, Greece**. I live in Athina, so it's easy for me to help him with this issue.\n",
    "\n",
    "It doesn't matter in which borough in Athina his cafe is going to open as soon as it is in the center of a borough with a lot of similar shops.\n",
    "\n",
    "We will use our data science powers to cluster boroughs in Athina based on the abovementioned criteria. I hope that my work will help him to choose a pretty good location for his cafe."
   ]
  },
  {
   "cell_type": "markdown",
   "metadata": {},
   "source": [
    "## Data <a name=\"data\"></a>"
   ]
  },
  {
   "cell_type": "markdown",
   "metadata": {},
   "source": [
    "Based on the definition of our problem, the factors that will influence our decision are:\n",
    "* Number of the existing cafe in the boroughs (we need cafe shop to be the first or second popular shop in a borough center)\n",
    "* Similar boroughs in Athina (so my friend can choose where he prefers to open his cafe) \n",
    "\n",
    "I decided to use the coordinates of Athina boroughs centers and search around them (range < 500m) for shops.\n",
    "\n",
    "I used data sources as follows:\n",
    "* Borough centers obtained from \n",
    " http://geodata.gov.gr/maps/?package=7a9cb4c4-f192-4df8-a6b4-1143c80ebc2d&resource=525ed8ae-1f2c-4c14-acb5-14d2d00be4a4&locale=el , which is a formally Greece government site\n",
    "* number of shops and their type and location in every borough center obtained using **Foursquare API**"
   ]
  }
 ],
 "metadata": {
  "kernelspec": {
   "display_name": "Python 3",
   "language": "python",
   "name": "python3"
  },
  "language_info": {
   "codemirror_mode": {
    "name": "ipython",
    "version": 3
   },
   "file_extension": ".py",
   "mimetype": "text/x-python",
   "name": "python",
   "nbconvert_exporter": "python",
   "pygments_lexer": "ipython3",
   "version": "3.7.4"
  }
 },
 "nbformat": 4,
 "nbformat_minor": 4
}
